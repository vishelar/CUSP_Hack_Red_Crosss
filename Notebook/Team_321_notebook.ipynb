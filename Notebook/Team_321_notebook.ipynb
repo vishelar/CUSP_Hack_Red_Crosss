{
 "cells": [
  {
   "cell_type": "code",
   "execution_count": 2,
   "metadata": {
    "collapsed": false
   },
   "outputs": [
    {
     "name": "stdout",
     "output_type": "stream",
     "text": [
      "Populating the interactive namespace from numpy and matplotlib\n"
     ]
    }
   ],
   "source": [
    "import numpy as np\n",
    "import pandas as pd\n",
    "import matplotlib as pl\n",
    "%pylab inline"
   ]
  },
  {
   "cell_type": "markdown",
   "metadata": {},
   "source": [
    "# Import Data"
   ]
  },
  {
   "cell_type": "code",
   "execution_count": 3,
   "metadata": {
    "collapsed": false
   },
   "outputs": [
    {
     "data": {
      "text/html": [
       "<div>\n",
       "<table border=\"1\" class=\"dataframe\">\n",
       "  <thead>\n",
       "    <tr style=\"text-align: right;\">\n",
       "      <th></th>\n",
       "      <th>division</th>\n",
       "      <th>year</th>\n",
       "      <th>disaster_number</th>\n",
       "      <th>incident_number</th>\n",
       "      <th>incident_name</th>\n",
       "      <th>start_date</th>\n",
       "      <th>fiscal_year</th>\n",
       "      <th>incident_state</th>\n",
       "      <th>disaster_type</th>\n",
       "      <th>disaster_level</th>\n",
       "      <th>total_destroyed_major</th>\n",
       "      <th>total_units_affected</th>\n",
       "      <th>verified_deaths</th>\n",
       "      <th>verified_hospitalized_ill_injured</th>\n",
       "      <th>total_client_shelters_opened</th>\n",
       "      <th>total_overnight_shelter_stays</th>\n",
       "      <th>x_new_shelter_registrations</th>\n",
       "      <th>total_volunters</th>\n",
       "    </tr>\n",
       "  </thead>\n",
       "  <tbody>\n",
       "    <tr>\n",
       "      <th>0</th>\n",
       "      <td>SWARM</td>\n",
       "      <td>2014</td>\n",
       "      <td>685-14</td>\n",
       "      <td>108461</td>\n",
       "      <td>Everman TX 1/14 MFF</td>\n",
       "      <td>1/2/14</td>\n",
       "      <td>2014</td>\n",
       "      <td>TX</td>\n",
       "      <td>FIR</td>\n",
       "      <td>2</td>\n",
       "      <td>0</td>\n",
       "      <td>0</td>\n",
       "      <td>0</td>\n",
       "      <td>4</td>\n",
       "      <td>1</td>\n",
       "      <td>42</td>\n",
       "      <td>21</td>\n",
       "      <td>42</td>\n",
       "    </tr>\n",
       "    <tr>\n",
       "      <th>1</th>\n",
       "      <td>Northeast</td>\n",
       "      <td>2014</td>\n",
       "      <td>693-14</td>\n",
       "      <td>108530</td>\n",
       "      <td>N Attleboro MA 1/14 MFF</td>\n",
       "      <td>1/3/14</td>\n",
       "      <td>2014</td>\n",
       "      <td>MA</td>\n",
       "      <td>FIR</td>\n",
       "      <td>2</td>\n",
       "      <td>0</td>\n",
       "      <td>0</td>\n",
       "      <td>0</td>\n",
       "      <td>0</td>\n",
       "      <td>0</td>\n",
       "      <td>0</td>\n",
       "      <td>0</td>\n",
       "      <td>11</td>\n",
       "    </tr>\n",
       "  </tbody>\n",
       "</table>\n",
       "</div>"
      ],
      "text/plain": [
       "    division  year disaster_number  incident_number            incident_name  \\\n",
       "0      SWARM  2014          685-14           108461      Everman TX 1/14 MFF   \n",
       "1  Northeast  2014          693-14           108530  N Attleboro MA 1/14 MFF   \n",
       "\n",
       "  start_date  fiscal_year incident_state disaster_type  disaster_level  \\\n",
       "0     1/2/14         2014             TX           FIR               2   \n",
       "1     1/3/14         2014             MA           FIR               2   \n",
       "\n",
       "   total_destroyed_major  total_units_affected  verified_deaths  \\\n",
       "0                      0                     0                0   \n",
       "1                      0                     0                0   \n",
       "\n",
       "   verified_hospitalized_ill_injured  total_client_shelters_opened  \\\n",
       "0                                  4                             1   \n",
       "1                                  0                             0   \n",
       "\n",
       "   total_overnight_shelter_stays  x_new_shelter_registrations  total_volunters  \n",
       "0                             42                           21               42  \n",
       "1                              0                            0               11  "
      ]
     },
     "execution_count": 3,
     "metadata": {},
     "output_type": "execute_result"
    }
   ],
   "source": [
    "red_cross = pd.read_csv(\"redcross-major-disaster.csv\")\n",
    "red_cross.head(2)"
   ]
  },
  {
   "cell_type": "markdown",
   "metadata": {},
   "source": [
    "# Data Cleaning"
   ]
  },
  {
   "cell_type": "code",
   "execution_count": 4,
   "metadata": {
    "collapsed": true
   },
   "outputs": [],
   "source": [
    "red_cross.drop_duplicates(inplace=True)\n",
    "red_cross.drop(['disaster_number','fiscal_year', 'incident_number'], axis=1, inplace=True)\n",
    "red_cross = red_cross[red_cross.incident_state != 'ZZ']"
   ]
  },
  {
   "cell_type": "code",
   "execution_count": 5,
   "metadata": {
    "collapsed": false
   },
   "outputs": [
    {
     "data": {
      "text/html": [
       "<div>\n",
       "<table border=\"1\" class=\"dataframe\">\n",
       "  <thead>\n",
       "    <tr style=\"text-align: right;\">\n",
       "      <th></th>\n",
       "      <th>disaster_level</th>\n",
       "      <th>total_destroyed_major</th>\n",
       "      <th>total_units_affected</th>\n",
       "      <th>verified_deaths</th>\n",
       "      <th>verified_hospitalized_ill_injured</th>\n",
       "      <th>total_client_shelters_opened</th>\n",
       "      <th>total_overnight_shelter_stays</th>\n",
       "      <th>x_new_shelter_registrations</th>\n",
       "      <th>total_volunters</th>\n",
       "    </tr>\n",
       "    <tr>\n",
       "      <th>year</th>\n",
       "      <th></th>\n",
       "      <th></th>\n",
       "      <th></th>\n",
       "      <th></th>\n",
       "      <th></th>\n",
       "      <th></th>\n",
       "      <th></th>\n",
       "      <th></th>\n",
       "      <th></th>\n",
       "    </tr>\n",
       "  </thead>\n",
       "  <tbody>\n",
       "    <tr>\n",
       "      <th>2000</th>\n",
       "      <td>668</td>\n",
       "      <td>12666</td>\n",
       "      <td>113593</td>\n",
       "      <td>272</td>\n",
       "      <td>2682</td>\n",
       "      <td>492</td>\n",
       "      <td>0</td>\n",
       "      <td>20938</td>\n",
       "      <td>23176</td>\n",
       "    </tr>\n",
       "    <tr>\n",
       "      <th>2001</th>\n",
       "      <td>698</td>\n",
       "      <td>31363</td>\n",
       "      <td>100875</td>\n",
       "      <td>2228</td>\n",
       "      <td>5677</td>\n",
       "      <td>525</td>\n",
       "      <td>39</td>\n",
       "      <td>23522</td>\n",
       "      <td>81097</td>\n",
       "    </tr>\n",
       "    <tr>\n",
       "      <th>2002</th>\n",
       "      <td>715</td>\n",
       "      <td>26904</td>\n",
       "      <td>690147</td>\n",
       "      <td>207</td>\n",
       "      <td>3869</td>\n",
       "      <td>672</td>\n",
       "      <td>0</td>\n",
       "      <td>69906</td>\n",
       "      <td>34158</td>\n",
       "    </tr>\n",
       "    <tr>\n",
       "      <th>2003</th>\n",
       "      <td>553</td>\n",
       "      <td>39625</td>\n",
       "      <td>758122</td>\n",
       "      <td>405</td>\n",
       "      <td>5297</td>\n",
       "      <td>759</td>\n",
       "      <td>0</td>\n",
       "      <td>61479</td>\n",
       "      <td>41431</td>\n",
       "    </tr>\n",
       "    <tr>\n",
       "      <th>2004</th>\n",
       "      <td>378</td>\n",
       "      <td>84443</td>\n",
       "      <td>352276</td>\n",
       "      <td>241</td>\n",
       "      <td>6818</td>\n",
       "      <td>1850</td>\n",
       "      <td>0</td>\n",
       "      <td>388862</td>\n",
       "      <td>43544</td>\n",
       "    </tr>\n",
       "    <tr>\n",
       "      <th>2005</th>\n",
       "      <td>614</td>\n",
       "      <td>365660</td>\n",
       "      <td>1379496</td>\n",
       "      <td>364</td>\n",
       "      <td>201500</td>\n",
       "      <td>1821</td>\n",
       "      <td>0</td>\n",
       "      <td>460113</td>\n",
       "      <td>245931</td>\n",
       "    </tr>\n",
       "    <tr>\n",
       "      <th>2006</th>\n",
       "      <td>506</td>\n",
       "      <td>14914</td>\n",
       "      <td>1140909</td>\n",
       "      <td>205</td>\n",
       "      <td>1791</td>\n",
       "      <td>587</td>\n",
       "      <td>12851</td>\n",
       "      <td>27428</td>\n",
       "      <td>18926</td>\n",
       "    </tr>\n",
       "    <tr>\n",
       "      <th>2007</th>\n",
       "      <td>590</td>\n",
       "      <td>21036</td>\n",
       "      <td>1295502</td>\n",
       "      <td>270</td>\n",
       "      <td>2119</td>\n",
       "      <td>686</td>\n",
       "      <td>96551</td>\n",
       "      <td>31784</td>\n",
       "      <td>27536</td>\n",
       "    </tr>\n",
       "    <tr>\n",
       "      <th>2008</th>\n",
       "      <td>546</td>\n",
       "      <td>49830</td>\n",
       "      <td>535564</td>\n",
       "      <td>308</td>\n",
       "      <td>2797</td>\n",
       "      <td>1493</td>\n",
       "      <td>532536</td>\n",
       "      <td>133965</td>\n",
       "      <td>45520</td>\n",
       "    </tr>\n",
       "    <tr>\n",
       "      <th>2009</th>\n",
       "      <td>249</td>\n",
       "      <td>10227</td>\n",
       "      <td>115027</td>\n",
       "      <td>200</td>\n",
       "      <td>450</td>\n",
       "      <td>432</td>\n",
       "      <td>50807</td>\n",
       "      <td>19814</td>\n",
       "      <td>11223</td>\n",
       "    </tr>\n",
       "    <tr>\n",
       "      <th>2010</th>\n",
       "      <td>338</td>\n",
       "      <td>11943</td>\n",
       "      <td>201258</td>\n",
       "      <td>165</td>\n",
       "      <td>1758</td>\n",
       "      <td>424</td>\n",
       "      <td>27280</td>\n",
       "      <td>9489</td>\n",
       "      <td>14060</td>\n",
       "    </tr>\n",
       "    <tr>\n",
       "      <th>2011</th>\n",
       "      <td>357</td>\n",
       "      <td>68034</td>\n",
       "      <td>163180</td>\n",
       "      <td>690</td>\n",
       "      <td>1977</td>\n",
       "      <td>1032</td>\n",
       "      <td>131824</td>\n",
       "      <td>48684</td>\n",
       "      <td>24335</td>\n",
       "    </tr>\n",
       "    <tr>\n",
       "      <th>2012</th>\n",
       "      <td>322</td>\n",
       "      <td>29430</td>\n",
       "      <td>226912</td>\n",
       "      <td>273</td>\n",
       "      <td>1167</td>\n",
       "      <td>925</td>\n",
       "      <td>125174</td>\n",
       "      <td>28601</td>\n",
       "      <td>30281</td>\n",
       "    </tr>\n",
       "    <tr>\n",
       "      <th>2013</th>\n",
       "      <td>384</td>\n",
       "      <td>12556</td>\n",
       "      <td>46153</td>\n",
       "      <td>164</td>\n",
       "      <td>1781</td>\n",
       "      <td>350</td>\n",
       "      <td>29715</td>\n",
       "      <td>10213</td>\n",
       "      <td>15555</td>\n",
       "    </tr>\n",
       "    <tr>\n",
       "      <th>2014</th>\n",
       "      <td>329</td>\n",
       "      <td>4264</td>\n",
       "      <td>15384</td>\n",
       "      <td>166</td>\n",
       "      <td>744</td>\n",
       "      <td>341</td>\n",
       "      <td>23813</td>\n",
       "      <td>58970</td>\n",
       "      <td>11781</td>\n",
       "    </tr>\n",
       "    <tr>\n",
       "      <th>2015</th>\n",
       "      <td>113</td>\n",
       "      <td>190</td>\n",
       "      <td>311</td>\n",
       "      <td>40</td>\n",
       "      <td>457</td>\n",
       "      <td>131</td>\n",
       "      <td>4310</td>\n",
       "      <td>1286</td>\n",
       "      <td>2328</td>\n",
       "    </tr>\n",
       "  </tbody>\n",
       "</table>\n",
       "</div>"
      ],
      "text/plain": [
       "      disaster_level  total_destroyed_major  total_units_affected  \\\n",
       "year                                                                \n",
       "2000             668                  12666                113593   \n",
       "2001             698                  31363                100875   \n",
       "2002             715                  26904                690147   \n",
       "2003             553                  39625                758122   \n",
       "2004             378                  84443                352276   \n",
       "2005             614                 365660               1379496   \n",
       "2006             506                  14914               1140909   \n",
       "2007             590                  21036               1295502   \n",
       "2008             546                  49830                535564   \n",
       "2009             249                  10227                115027   \n",
       "2010             338                  11943                201258   \n",
       "2011             357                  68034                163180   \n",
       "2012             322                  29430                226912   \n",
       "2013             384                  12556                 46153   \n",
       "2014             329                   4264                 15384   \n",
       "2015             113                    190                   311   \n",
       "\n",
       "      verified_deaths  verified_hospitalized_ill_injured  \\\n",
       "year                                                       \n",
       "2000              272                               2682   \n",
       "2001             2228                               5677   \n",
       "2002              207                               3869   \n",
       "2003              405                               5297   \n",
       "2004              241                               6818   \n",
       "2005              364                             201500   \n",
       "2006              205                               1791   \n",
       "2007              270                               2119   \n",
       "2008              308                               2797   \n",
       "2009              200                                450   \n",
       "2010              165                               1758   \n",
       "2011              690                               1977   \n",
       "2012              273                               1167   \n",
       "2013              164                               1781   \n",
       "2014              166                                744   \n",
       "2015               40                                457   \n",
       "\n",
       "      total_client_shelters_opened  total_overnight_shelter_stays  \\\n",
       "year                                                                \n",
       "2000                           492                              0   \n",
       "2001                           525                             39   \n",
       "2002                           672                              0   \n",
       "2003                           759                              0   \n",
       "2004                          1850                              0   \n",
       "2005                          1821                              0   \n",
       "2006                           587                          12851   \n",
       "2007                           686                          96551   \n",
       "2008                          1493                         532536   \n",
       "2009                           432                          50807   \n",
       "2010                           424                          27280   \n",
       "2011                          1032                         131824   \n",
       "2012                           925                         125174   \n",
       "2013                           350                          29715   \n",
       "2014                           341                          23813   \n",
       "2015                           131                           4310   \n",
       "\n",
       "      x_new_shelter_registrations  total_volunters  \n",
       "year                                                \n",
       "2000                        20938            23176  \n",
       "2001                        23522            81097  \n",
       "2002                        69906            34158  \n",
       "2003                        61479            41431  \n",
       "2004                       388862            43544  \n",
       "2005                       460113           245931  \n",
       "2006                        27428            18926  \n",
       "2007                        31784            27536  \n",
       "2008                       133965            45520  \n",
       "2009                        19814            11223  \n",
       "2010                         9489            14060  \n",
       "2011                        48684            24335  \n",
       "2012                        28601            30281  \n",
       "2013                        10213            15555  \n",
       "2014                        58970            11781  \n",
       "2015                         1286             2328  "
      ]
     },
     "execution_count": 5,
     "metadata": {},
     "output_type": "execute_result"
    }
   ],
   "source": [
    "red_cross.groupby(by = 'year').sum()"
   ]
  },
  {
   "cell_type": "code",
   "execution_count": 6,
   "metadata": {
    "collapsed": false
   },
   "outputs": [
    {
     "data": {
      "text/plain": [
       "<matplotlib.text.Text at 0x9eedb70>"
      ]
     },
     "execution_count": 6,
     "metadata": {},
     "output_type": "execute_result"
    },
    {
     "data": {
      "image/png": "[encoded data removed]",
      "text/plain": [
       "<matplotlib.figure.Figure at 0x9d66eb8>"
      ]
     },
     "metadata": {},
     "output_type": "display_data"
    }
   ],
   "source": [
    "incident = red_cross.groupby('disaster_type').agg({'year':'count'}) \n",
    "incident.sort_values('year', inplace=True, ascending=False)\n",
    "incident.plot.bar(figsize = (12,7))\n",
    "plt.ylabel('no. of incidents')"
   ]
  },
  {
   "cell_type": "code",
   "execution_count": 7,
   "metadata": {
    "collapsed": false
   },
   "outputs": [
    {
     "data": {
      "text/plain": [
       "<matplotlib.text.Text at 0xa1cbf60>"
      ]
     },
     "execution_count": 7,
     "metadata": {},
     "output_type": "execute_result"
    },
    {
     "data": {
      "image/png": "[encoded data removed]",
      "text/plain": [
       "<matplotlib.figure.Figure at 0xa01b748>"
      ]
     },
     "metadata": {},
     "output_type": "display_data"
    }
   ],
   "source": [
    "filter_data = red_cross[((red_cross.disaster_type == 'FIR') | (red_cross.disaster_type == 'FLD') \\\n",
    "| (red_cross.disaster_type == u'HUR') | (red_cross.disaster_type == u'TOR'))]\n",
    "\n",
    "incident = filter_data.groupby('disaster_type').agg({'year':'count'}) \n",
    "incident.sort_values('year', inplace=True, ascending=False)\n",
    "incident.plot.bar(figsize = (12,7))\n",
    "plt.ylabel('no. of incidents')"
   ]
  },
  {
   "cell_type": "code",
   "execution_count": 8,
   "metadata": {
    "collapsed": true
   },
   "outputs": [],
   "source": [
    "# 'x_new_shelter_registrations',  'total_overnight_shelter_stays' , 'total_client_shelters_opened', 'verified_deaths', 'verified_hospitalized_ill_injured'"
   ]
  },
  {
   "cell_type": "code",
   "execution_count": 9,
   "metadata": {
    "collapsed": false
   },
   "outputs": [
    {
     "data": {
      "text/plain": [
       "Index([                                   1,\n",
       "                                          2,\n",
       "                                          3,\n",
       "                                          4,\n",
       "                                          5,\n",
       "                                          6,\n",
       "                                          7,\n",
       "                                     u'FIR',\n",
       "                                     u'FLD',\n",
       "                                     u'HUR',\n",
       "                                     u'TOR',\n",
       "                   u'total_destroyed_major',\n",
       "                    u'total_units_affected',\n",
       "                         u'verified_deaths',\n",
       "       u'verified_hospitalized_ill_injured',\n",
       "            u'total_client_shelters_opened',\n",
       "           u'total_overnight_shelter_stays',\n",
       "             u'x_new_shelter_registrations',\n",
       "                         u'total_volunters'],\n",
       "      dtype='object')"
      ]
     },
     "execution_count": 9,
     "metadata": {},
     "output_type": "execute_result"
    }
   ],
   "source": [
    "disaster_dummy = pd.get_dummies(filter_data.disaster_type)\n",
    "incident_dummy = pd.get_dummies(filter_data.disaster_level)\n",
    "data  = disaster_dummy.join(filter_data)\n",
    "data  = incident_dummy.join(data)\n",
    "data.drop(['division', 'year', 'incident_name', 'start_date', 'incident_state'], axis=1, inplace=True)\n",
    "data.drop(['disaster_type'], axis=1, inplace=True)\n",
    "data.drop(['disaster_level'], axis=1, inplace=True)\n",
    "data.columns"
   ]
  },
  {
   "cell_type": "code",
   "execution_count": 10,
   "metadata": {
    "collapsed": false
   },
   "outputs": [
    {
     "data": {
      "text/html": [
       "<div>\n",
       "<table border=\"1\" class=\"dataframe\">\n",
       "  <thead>\n",
       "    <tr style=\"text-align: right;\">\n",
       "      <th></th>\n",
       "      <th>1</th>\n",
       "      <th>2</th>\n",
       "      <th>3</th>\n",
       "      <th>4</th>\n",
       "      <th>5</th>\n",
       "      <th>6</th>\n",
       "      <th>7</th>\n",
       "      <th>FIR</th>\n",
       "      <th>FLD</th>\n",
       "      <th>HUR</th>\n",
       "      <th>TOR</th>\n",
       "      <th>total_destroyed_major</th>\n",
       "      <th>total_units_affected</th>\n",
       "      <th>verified_deaths</th>\n",
       "      <th>verified_hospitalized_ill_injured</th>\n",
       "      <th>total_client_shelters_opened</th>\n",
       "      <th>total_overnight_shelter_stays</th>\n",
       "      <th>x_new_shelter_registrations</th>\n",
       "      <th>total_volunters</th>\n",
       "    </tr>\n",
       "  </thead>\n",
       "  <tbody>\n",
       "    <tr>\n",
       "      <th>count</th>\n",
       "      <td>2518.000000</td>\n",
       "      <td>2518.000000</td>\n",
       "      <td>2518.000000</td>\n",
       "      <td>2518.000000</td>\n",
       "      <td>2518.000000</td>\n",
       "      <td>2518.000000</td>\n",
       "      <td>2518.000000</td>\n",
       "      <td>2518.000000</td>\n",
       "      <td>2518.000000</td>\n",
       "      <td>2518.000000</td>\n",
       "      <td>2518.000000</td>\n",
       "      <td>2518.000000</td>\n",
       "      <td>2518.000000</td>\n",
       "      <td>2518.000000</td>\n",
       "      <td>2518.000000</td>\n",
       "      <td>2518.000000</td>\n",
       "      <td>2518.000000</td>\n",
       "      <td>2518.000000</td>\n",
       "      <td>2518.000000</td>\n",
       "    </tr>\n",
       "    <tr>\n",
       "      <th>mean</th>\n",
       "      <td>0.140985</td>\n",
       "      <td>0.590548</td>\n",
       "      <td>0.160842</td>\n",
       "      <td>0.086180</td>\n",
       "      <td>0.006354</td>\n",
       "      <td>0.003177</td>\n",
       "      <td>0.011914</td>\n",
       "      <td>0.542097</td>\n",
       "      <td>0.179508</td>\n",
       "      <td>0.142971</td>\n",
       "      <td>0.135425</td>\n",
       "      <td>290.694202</td>\n",
       "      <td>1176.328435</td>\n",
       "      <td>1.144559</td>\n",
       "      <td>88.661636</td>\n",
       "      <td>3.769261</td>\n",
       "      <td>333.988880</td>\n",
       "      <td>462.167990</td>\n",
       "      <td>204.395155</td>\n",
       "    </tr>\n",
       "    <tr>\n",
       "      <th>std</th>\n",
       "      <td>0.348075</td>\n",
       "      <td>0.491830</td>\n",
       "      <td>0.367458</td>\n",
       "      <td>0.280685</td>\n",
       "      <td>0.079476</td>\n",
       "      <td>0.056288</td>\n",
       "      <td>0.108522</td>\n",
       "      <td>0.498324</td>\n",
       "      <td>0.383853</td>\n",
       "      <td>0.350112</td>\n",
       "      <td>0.342245</td>\n",
       "      <td>6983.157634</td>\n",
       "      <td>17554.377705</td>\n",
       "      <td>7.362334</td>\n",
       "      <td>3358.346980</td>\n",
       "      <td>18.778627</td>\n",
       "      <td>5119.813103</td>\n",
       "      <td>6004.727325</td>\n",
       "      <td>1343.140732</td>\n",
       "    </tr>\n",
       "    <tr>\n",
       "      <th>min</th>\n",
       "      <td>0.000000</td>\n",
       "      <td>0.000000</td>\n",
       "      <td>0.000000</td>\n",
       "      <td>0.000000</td>\n",
       "      <td>0.000000</td>\n",
       "      <td>0.000000</td>\n",
       "      <td>0.000000</td>\n",
       "      <td>0.000000</td>\n",
       "      <td>0.000000</td>\n",
       "      <td>0.000000</td>\n",
       "      <td>0.000000</td>\n",
       "      <td>0.000000</td>\n",
       "      <td>0.000000</td>\n",
       "      <td>0.000000</td>\n",
       "      <td>0.000000</td>\n",
       "      <td>0.000000</td>\n",
       "      <td>0.000000</td>\n",
       "      <td>0.000000</td>\n",
       "      <td>0.000000</td>\n",
       "    </tr>\n",
       "    <tr>\n",
       "      <th>25%</th>\n",
       "      <td>0.000000</td>\n",
       "      <td>0.000000</td>\n",
       "      <td>0.000000</td>\n",
       "      <td>0.000000</td>\n",
       "      <td>0.000000</td>\n",
       "      <td>0.000000</td>\n",
       "      <td>0.000000</td>\n",
       "      <td>0.000000</td>\n",
       "      <td>0.000000</td>\n",
       "      <td>0.000000</td>\n",
       "      <td>0.000000</td>\n",
       "      <td>6.000000</td>\n",
       "      <td>10.000000</td>\n",
       "      <td>0.000000</td>\n",
       "      <td>0.000000</td>\n",
       "      <td>0.000000</td>\n",
       "      <td>0.000000</td>\n",
       "      <td>0.000000</td>\n",
       "      <td>8.000000</td>\n",
       "    </tr>\n",
       "    <tr>\n",
       "      <th>50%</th>\n",
       "      <td>0.000000</td>\n",
       "      <td>1.000000</td>\n",
       "      <td>0.000000</td>\n",
       "      <td>0.000000</td>\n",
       "      <td>0.000000</td>\n",
       "      <td>0.000000</td>\n",
       "      <td>0.000000</td>\n",
       "      <td>1.000000</td>\n",
       "      <td>0.000000</td>\n",
       "      <td>0.000000</td>\n",
       "      <td>0.000000</td>\n",
       "      <td>16.000000</td>\n",
       "      <td>26.000000</td>\n",
       "      <td>0.000000</td>\n",
       "      <td>0.000000</td>\n",
       "      <td>0.000000</td>\n",
       "      <td>0.000000</td>\n",
       "      <td>0.000000</td>\n",
       "      <td>22.000000</td>\n",
       "    </tr>\n",
       "    <tr>\n",
       "      <th>75%</th>\n",
       "      <td>0.000000</td>\n",
       "      <td>1.000000</td>\n",
       "      <td>0.000000</td>\n",
       "      <td>0.000000</td>\n",
       "      <td>0.000000</td>\n",
       "      <td>0.000000</td>\n",
       "      <td>0.000000</td>\n",
       "      <td>1.000000</td>\n",
       "      <td>0.000000</td>\n",
       "      <td>0.000000</td>\n",
       "      <td>0.000000</td>\n",
       "      <td>43.750000</td>\n",
       "      <td>116.000000</td>\n",
       "      <td>0.000000</td>\n",
       "      <td>3.000000</td>\n",
       "      <td>1.000000</td>\n",
       "      <td>0.000000</td>\n",
       "      <td>28.000000</td>\n",
       "      <td>73.000000</td>\n",
       "    </tr>\n",
       "    <tr>\n",
       "      <th>max</th>\n",
       "      <td>1.000000</td>\n",
       "      <td>1.000000</td>\n",
       "      <td>1.000000</td>\n",
       "      <td>1.000000</td>\n",
       "      <td>1.000000</td>\n",
       "      <td>1.000000</td>\n",
       "      <td>1.000000</td>\n",
       "      <td>1.000000</td>\n",
       "      <td>1.000000</td>\n",
       "      <td>1.000000</td>\n",
       "      <td>1.000000</td>\n",
       "      <td>345100.000000</td>\n",
       "      <td>702258.000000</td>\n",
       "      <td>248.000000</td>\n",
       "      <td>168178.000000</td>\n",
       "      <td>392.000000</td>\n",
       "      <td>217449.000000</td>\n",
       "      <td>180475.000000</td>\n",
       "      <td>33337.000000</td>\n",
       "    </tr>\n",
       "  </tbody>\n",
       "</table>\n",
       "</div>"
      ],
      "text/plain": [
       "                 1            2            3            4            5  \\\n",
       "count  2518.000000  2518.000000  2518.000000  2518.000000  2518.000000   \n",
       "mean      0.140985     0.590548     0.160842     0.086180     0.006354   \n",
       "std       0.348075     0.491830     0.367458     0.280685     0.079476   \n",
       "min       0.000000     0.000000     0.000000     0.000000     0.000000   \n",
       "25%       0.000000     0.000000     0.000000     0.000000     0.000000   \n",
       "50%       0.000000     1.000000     0.000000     0.000000     0.000000   \n",
       "75%       0.000000     1.000000     0.000000     0.000000     0.000000   \n",
       "max       1.000000     1.000000     1.000000     1.000000     1.000000   \n",
       "\n",
       "                 6            7          FIR          FLD          HUR  \\\n",
       "count  2518.000000  2518.000000  2518.000000  2518.000000  2518.000000   \n",
       "mean      0.003177     0.011914     0.542097     0.179508     0.142971   \n",
       "std       0.056288     0.108522     0.498324     0.383853     0.350112   \n",
       "min       0.000000     0.000000     0.000000     0.000000     0.000000   \n",
       "25%       0.000000     0.000000     0.000000     0.000000     0.000000   \n",
       "50%       0.000000     0.000000     1.000000     0.000000     0.000000   \n",
       "75%       0.000000     0.000000     1.000000     0.000000     0.000000   \n",
       "max       1.000000     1.000000     1.000000     1.000000     1.000000   \n",
       "\n",
       "               TOR  total_destroyed_major  total_units_affected  \\\n",
       "count  2518.000000            2518.000000           2518.000000   \n",
       "mean      0.135425             290.694202           1176.328435   \n",
       "std       0.342245            6983.157634          17554.377705   \n",
       "min       0.000000               0.000000              0.000000   \n",
       "25%       0.000000               6.000000             10.000000   \n",
       "50%       0.000000              16.000000             26.000000   \n",
       "75%       0.000000              43.750000            116.000000   \n",
       "max       1.000000          345100.000000         702258.000000   \n",
       "\n",
       "       verified_deaths  verified_hospitalized_ill_injured  \\\n",
       "count      2518.000000                        2518.000000   \n",
       "mean          1.144559                          88.661636   \n",
       "std           7.362334                        3358.346980   \n",
       "min           0.000000                           0.000000   \n",
       "25%           0.000000                           0.000000   \n",
       "50%           0.000000                           0.000000   \n",
       "75%           0.000000                           3.000000   \n",
       "max         248.000000                      168178.000000   \n",
       "\n",
       "       total_client_shelters_opened  total_overnight_shelter_stays  \\\n",
       "count                   2518.000000                    2518.000000   \n",
       "mean                       3.769261                     333.988880   \n",
       "std                       18.778627                    5119.813103   \n",
       "min                        0.000000                       0.000000   \n",
       "25%                        0.000000                       0.000000   \n",
       "50%                        0.000000                       0.000000   \n",
       "75%                        1.000000                       0.000000   \n",
       "max                      392.000000                  217449.000000   \n",
       "\n",
       "       x_new_shelter_registrations  total_volunters  \n",
       "count                  2518.000000      2518.000000  \n",
       "mean                    462.167990       204.395155  \n",
       "std                    6004.727325      1343.140732  \n",
       "min                       0.000000         0.000000  \n",
       "25%                       0.000000         8.000000  \n",
       "50%                       0.000000        22.000000  \n",
       "75%                      28.000000        73.000000  \n",
       "max                  180475.000000     33337.000000  "
      ]
     },
     "execution_count": 10,
     "metadata": {},
     "output_type": "execute_result"
    }
   ],
   "source": [
    "data.describe()"
   ]
  },
  {
   "cell_type": "code",
   "execution_count": 23,
   "metadata": {
    "collapsed": false
   },
   "outputs": [
    {
     "data": {
      "image/png": "[encoded data removed]",
      "text/plain": [
       "<matplotlib.figure.Figure at 0xbef5eb8>"
      ]
     },
     "metadata": {},
     "output_type": "display_data"
    }
   ],
   "source": [
    "clean_data = data[(data.total_volunters > 1)]\n",
    "fig = plt.figure(figsize=(12,8))\n",
    "ax = fig.add_subplot(111)\n",
    "clean_data.total_volunters.hist()\n",
    "plt.title('Histogram of Total volunteers in log scale')\n",
    "ax.set_yscale('log')"
   ]
  },
  {
   "cell_type": "code",
   "execution_count": 18,
   "metadata": {
    "collapsed": false
   },
   "outputs": [],
   "source": [
    "# clean_data = data[(data.total_volunters > 1) & (data.total_volunters < 20000)]\n",
    "X = clean_data.iloc[:,:-1]\n",
    "Y = clean_data.loc[:,'total_volunters']\n",
    "from sklearn.model_selection import train_test_split\n",
    "X_train, X_test, Y_train, Y_test = train_test_split(\n",
    "        X, Y, test_size=0.33, random_state=99)"
   ]
  },
  {
   "cell_type": "markdown",
   "metadata": {},
   "source": [
    "# Random Forest with parameter max_features = 'sqrt' and max_depth"
   ]
  },
  {
   "cell_type": "code",
   "execution_count": 19,
   "metadata": {
    "collapsed": false
   },
   "outputs": [
    {
     "name": "stdout",
     "output_type": "stream",
     "text": [
      "0.805742785682\n"
     ]
    }
   ],
   "source": [
    "from sklearn.ensemble import RandomForestRegressor as RFR\n",
    "from sklearn.model_selection import GridSearchCV\n",
    "param_grid ={'max_depth' : range(5, 100, 2)}\n",
    "rf = RFR(max_features = 'sqrt', random_state=5)\n",
    "gr=GridSearchCV(rf,param_grid=param_grid)\n",
    "rs=gr.fit(X_train ,np.log10(Y_train))\n",
    "print rs.score(X_test ,np.log10(Y_test))"
   ]
  },
  {
   "cell_type": "markdown",
   "metadata": {},
   "source": [
    "# Gradient Boosting with parameters (learning_rate=0.15,  loss='huber', max_features = 'sqrt')"
   ]
  },
  {
   "cell_type": "code",
   "execution_count": 20,
   "metadata": {
    "collapsed": false
   },
   "outputs": [
    {
     "data": {
      "text/plain": [
       "0.80938528590209391"
      ]
     },
     "execution_count": 20,
     "metadata": {},
     "output_type": "execute_result"
    }
   ],
   "source": [
    "from sklearn.ensemble import GradientBoostingRegressor\n",
    "param_grid ={'max_depth' : range(5, 100 , 2)}\n",
    "est = GradientBoostingRegressor(learning_rate=0.15, random_state=0, loss='huber', max_features = 'sqrt')\n",
    "gr=GridSearchCV(est,param_grid=param_grid)\n",
    "gb = gr.fit(X_train, np.log10(Y_train))\n",
    "gb.score(X_test, np.log10(Y_test))"
   ]
  },
  {
   "cell_type": "markdown",
   "metadata": {},
   "source": [
    "# Gradient Boosting with parameters (max_depth = 5 loss='ls', max_features = 'sqrt')"
   ]
  },
  {
   "cell_type": "code",
   "execution_count": 21,
   "metadata": {
    "collapsed": false
   },
   "outputs": [
    {
     "data": {
      "text/plain": [
       "0.81807673205417863"
      ]
     },
     "execution_count": 21,
     "metadata": {},
     "output_type": "execute_result"
    }
   ],
   "source": [
    "from sklearn.ensemble import GradientBoostingRegressor\n",
    "param_grid ={'learning_rate' : np.linspace(0.075, 0.15, 25)}\n",
    "est = GradientBoostingRegressor(max_depth = 5, random_state=0, loss='ls', max_features = 'sqrt')\n",
    "gr=GridSearchCV(est,param_grid=param_grid)\n",
    "gb = gr.fit(X_train, np.log10(Y_train))\n",
    "gb.score(X_test, np.log10(Y_test))"
   ]
  },
  {
   "cell_type": "code",
   "execution_count": null,
   "metadata": {
    "collapsed": true
   },
   "outputs": [],
   "source": []
  }
 ],
 "metadata": {
  "anaconda-cloud": {},
  "kernelspec": {
   "display_name": "Python [default]",
   "language": "python",
   "name": "python2"
  },
  "language_info": {
   "codemirror_mode": {
    "name": "ipython",
    "version": 2
   },
   "file_extension": ".py",
   "mimetype": "text/x-python",
   "name": "python",
   "nbconvert_exporter": "python",
   "pygments_lexer": "ipython2",
   "version": "2.7.12"
  }
 },
 "nbformat": 4,
 "nbformat_minor": 2
}
